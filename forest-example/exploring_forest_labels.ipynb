{
 "cells": [
  {
   "cell_type": "markdown",
   "id": "a548578b",
   "metadata": {},
   "source": [
    "# Exploring forest labels"
   ]
  },
  {
   "cell_type": "code",
   "execution_count": null,
   "id": "3c03a206",
   "metadata": {},
   "outputs": [],
   "source": [
    "!jupyter nbextension enable --py widgetsnbextension\n",
    "!jupyter nbextension install ipyleaflet --user --py\n",
    "!jupyter nbextension enable ipyleaflet --user --py"
   ]
  },
  {
   "cell_type": "code",
   "execution_count": null,
   "id": "da3af67f",
   "metadata": {},
   "outputs": [],
   "source": [
    "!pip install geemap"
   ]
  },
  {
   "cell_type": "code",
   "execution_count": 1,
   "id": "0cc27528",
   "metadata": {},
   "outputs": [],
   "source": [
    "from openmapflow.config import PROJECT_ROOT, DataPaths\n",
    "from pathlib import Path\n",
    "from tqdm.notebook import tqdm\n",
    "\n",
    "import pandas as pd\n",
    "import geemap"
   ]
  },
  {
   "cell_type": "code",
   "execution_count": 2,
   "id": "e4e23674",
   "metadata": {},
   "outputs": [],
   "source": [
    "raw_label_paths = list(Path(PROJECT_ROOT / DataPaths.RAW_LABELS).glob(\"*\"))"
   ]
  },
  {
   "cell_type": "code",
   "execution_count": 3,
   "id": "544acb03",
   "metadata": {},
   "outputs": [
    {
     "data": {
      "application/vnd.jupyter.widget-view+json": {
       "model_id": "d4239aa32ea146848a68c264eef2d552",
       "version_major": 2,
       "version_minor": 0
      },
      "text/plain": [
       "  0%|          | 0/5 [00:00<?, ?it/s]"
      ]
     },
     "metadata": {},
     "output_type": "display_data"
    }
   ],
   "source": [
    "dfs = {r.name: pd.read_csv(r) for r in tqdm(raw_label_paths)}"
   ]
  },
  {
   "cell_type": "code",
   "execution_count": 4,
   "id": "f2590583",
   "metadata": {},
   "outputs": [
    {
     "name": "stdout",
     "output_type": "stream",
     "text": [
      "--------------------------------------------------\n",
      "nfa_lulc19_labelled_forest_data_2.csv\n",
      "--------------------------------------------------\n",
      "Amount: 5431597\n",
      "Columns: ['Unnamed: 0', 'label', 'lat', 'lon']\n",
      "Labels:\n",
      "Woodland                             0.867106\n",
      "Plantations broadleaved              0.038918\n",
      "Tropical high forest well-stocked    0.033739\n",
      "Tropical high forest low-stocked     0.030659\n",
      "Plantations coniferous               0.029578\n",
      "Name: label, dtype: float64\n",
      "--------------------------------------------------\n",
      "hansen_labelled_data.csv\n",
      "--------------------------------------------------\n",
      "Amount: 3404826\n",
      "Columns: ['Unnamed: 0', 'label', 'lat', 'lon']\n",
      "Labels:\n",
      "Forest        0.717654\n",
      "Non Forest    0.282346\n",
      "Name: label, dtype: float64\n",
      "--------------------------------------------------\n",
      "nfa_lulc19_labelled_forest_data_1.csv\n",
      "--------------------------------------------------\n",
      "Amount: 5324191\n",
      "Columns: ['Unnamed: 0', 'label', 'lat', 'lon']\n",
      "Labels:\n",
      "Woodland                             0.977666\n",
      "Tropical high forest low-stocked     0.009268\n",
      "Plantations broadleaved              0.004921\n",
      "Tropical high forest well-stocked    0.004233\n",
      "Plantations coniferous               0.003912\n",
      "Name: label, dtype: float64\n",
      "--------------------------------------------------\n",
      "nfa_lulc19_labelled_non_forest_data_1.csv\n",
      "--------------------------------------------------\n",
      "Amount: 8433940\n",
      "Columns: ['Unnamed: 0', 'label', 'lat', 'lon']\n",
      "Labels:\n",
      "Subsistence farmland                      0.444815\n",
      "Grassland                                 0.442869\n",
      "Bushland                                  0.057063\n",
      "Built up areas                            0.039896\n",
      "Wetland                                   0.004528\n",
      "Impediment (bare soil, bare rock, etc)    0.004337\n",
      "Water                                     0.003922\n",
      "Commercial farmland                       0.002569\n",
      "Name: label, dtype: float64\n",
      "--------------------------------------------------\n",
      "nfa_lulc19_labelled_non_forest_data_2.csv\n",
      "--------------------------------------------------\n",
      "Amount: 7772650\n",
      "Columns: ['Unnamed: 0', 'label', 'lat', 'lon']\n",
      "Labels:\n",
      "Grassland                                 0.467290\n",
      "Subsistence farmland                      0.359137\n",
      "Bushland                                  0.090780\n",
      "Built up areas                            0.060457\n",
      "Wetland                                   0.009576\n",
      "Commercial farmland                       0.007387\n",
      "Water                                     0.002858\n",
      "Impediment (bare soil, bare rock, etc)    0.002515\n",
      "Name: label, dtype: float64\n"
     ]
    }
   ],
   "source": [
    "for name, df in dfs.items():\n",
    "    print(\"-\"*50)\n",
    "    print(name)\n",
    "    print(\"-\"*50)\n",
    "    print(f\"Amount: {len(df)}\")\n",
    "    print(f\"Columns: {list(df.columns)}\")\n",
    "    print(\"Labels:\")\n",
    "    print(df[\"label\"].value_counts(normalize=True))"
   ]
  },
  {
   "cell_type": "code",
   "execution_count": 5,
   "id": "4e882cad",
   "metadata": {},
   "outputs": [],
   "source": [
    "Map = geemap.Map(center=[3, 33], zoom=7)"
   ]
  },
  {
   "cell_type": "code",
   "execution_count": 6,
   "id": "8a43db55",
   "metadata": {
    "scrolled": false
   },
   "outputs": [
    {
     "data": {
      "application/vnd.jupyter.widget-view+json": {
       "model_id": "7f71201948434c13bf43bff2ab7d29ab",
       "version_major": 2,
       "version_minor": 0
      },
      "text/plain": [
       "  0%|          | 0/5 [00:00<?, ?it/s]"
      ]
     },
     "metadata": {},
     "output_type": "display_data"
    },
    {
     "data": {
      "application/vnd.jupyter.widget-view+json": {
       "model_id": "5c39ed7e258048019785426e66205afd",
       "version_major": 2,
       "version_minor": 0
      },
      "text/plain": [
       "Map(center=[3, 33], controls=(WidgetControl(options=['position'], widget=HBox(children=(ToggleButton(value=Fal…"
      ]
     },
     "metadata": {},
     "output_type": "display_data"
    },
    {
     "ename": "ValueError",
     "evalue": "The Planet API Key must be provided.",
     "output_type": "error",
     "traceback": [
      "\u001b[0;31m---------------------------------------------------------------------------\u001b[0m",
      "\u001b[0;31mValueError\u001b[0m                                Traceback (most recent call last)",
      "File \u001b[0;32m~/nasaharvest/openmapflow/venv/lib/python3.9/site-packages/ipywidgets/widgets/widget.py:756\u001b[0m, in \u001b[0;36mWidget._handle_msg\u001b[0;34m(self, msg)\u001b[0m\n\u001b[1;32m    754\u001b[0m         \u001b[38;5;28;01mif\u001b[39;00m \u001b[38;5;124m'\u001b[39m\u001b[38;5;124mbuffer_paths\u001b[39m\u001b[38;5;124m'\u001b[39m \u001b[38;5;129;01min\u001b[39;00m data:\n\u001b[1;32m    755\u001b[0m             _put_buffers(state, data[\u001b[38;5;124m'\u001b[39m\u001b[38;5;124mbuffer_paths\u001b[39m\u001b[38;5;124m'\u001b[39m], msg[\u001b[38;5;124m'\u001b[39m\u001b[38;5;124mbuffers\u001b[39m\u001b[38;5;124m'\u001b[39m])\n\u001b[0;32m--> 756\u001b[0m         \u001b[38;5;28;43mself\u001b[39;49m\u001b[38;5;241;43m.\u001b[39;49m\u001b[43mset_state\u001b[49m\u001b[43m(\u001b[49m\u001b[43mstate\u001b[49m\u001b[43m)\u001b[49m\n\u001b[1;32m    758\u001b[0m \u001b[38;5;66;03m# Handle a state request.\u001b[39;00m\n\u001b[1;32m    759\u001b[0m \u001b[38;5;28;01melif\u001b[39;00m method \u001b[38;5;241m==\u001b[39m \u001b[38;5;124m'\u001b[39m\u001b[38;5;124mrequest_state\u001b[39m\u001b[38;5;124m'\u001b[39m:\n",
      "File \u001b[0;32m~/nasaharvest/openmapflow/venv/lib/python3.9/site-packages/ipywidgets/widgets/widget.py:625\u001b[0m, in \u001b[0;36mWidget.set_state\u001b[0;34m(self, sync_data)\u001b[0m\n\u001b[1;32m    622\u001b[0m \u001b[38;5;28;01mif\u001b[39;00m name \u001b[38;5;129;01min\u001b[39;00m \u001b[38;5;28mself\u001b[39m\u001b[38;5;241m.\u001b[39mkeys:\n\u001b[1;32m    623\u001b[0m     from_json \u001b[38;5;241m=\u001b[39m \u001b[38;5;28mself\u001b[39m\u001b[38;5;241m.\u001b[39mtrait_metadata(name, \u001b[38;5;124m'\u001b[39m\u001b[38;5;124mfrom_json\u001b[39m\u001b[38;5;124m'\u001b[39m,\n\u001b[1;32m    624\u001b[0m                                     \u001b[38;5;28mself\u001b[39m\u001b[38;5;241m.\u001b[39m_trait_from_json)\n\u001b[0;32m--> 625\u001b[0m     \u001b[38;5;28mself\u001b[39m\u001b[38;5;241m.\u001b[39mset_trait(name, from_json(sync_data[name], \u001b[38;5;28mself\u001b[39m))\n",
      "File \u001b[0;32m/usr/local/Caskroom/miniconda/base/lib/python3.9/contextlib.py:126\u001b[0m, in \u001b[0;36m_GeneratorContextManager.__exit__\u001b[0;34m(self, typ, value, traceback)\u001b[0m\n\u001b[1;32m    124\u001b[0m \u001b[38;5;28;01mif\u001b[39;00m typ \u001b[38;5;129;01mis\u001b[39;00m \u001b[38;5;28;01mNone\u001b[39;00m:\n\u001b[1;32m    125\u001b[0m     \u001b[38;5;28;01mtry\u001b[39;00m:\n\u001b[0;32m--> 126\u001b[0m         \u001b[38;5;28;43mnext\u001b[39;49m\u001b[43m(\u001b[49m\u001b[38;5;28;43mself\u001b[39;49m\u001b[38;5;241;43m.\u001b[39;49m\u001b[43mgen\u001b[49m\u001b[43m)\u001b[49m\n\u001b[1;32m    127\u001b[0m     \u001b[38;5;28;01mexcept\u001b[39;00m \u001b[38;5;167;01mStopIteration\u001b[39;00m:\n\u001b[1;32m    128\u001b[0m         \u001b[38;5;28;01mreturn\u001b[39;00m \u001b[38;5;28;01mFalse\u001b[39;00m\n",
      "File \u001b[0;32m~/nasaharvest/openmapflow/venv/lib/python3.9/site-packages/traitlets/traitlets.py:1371\u001b[0m, in \u001b[0;36mHasTraits.hold_trait_notifications\u001b[0;34m(self)\u001b[0m\n\u001b[1;32m   1369\u001b[0m \u001b[38;5;28;01mfor\u001b[39;00m changes \u001b[38;5;129;01min\u001b[39;00m cache\u001b[38;5;241m.\u001b[39mvalues():\n\u001b[1;32m   1370\u001b[0m     \u001b[38;5;28;01mfor\u001b[39;00m change \u001b[38;5;129;01min\u001b[39;00m changes:\n\u001b[0;32m-> 1371\u001b[0m         \u001b[38;5;28;43mself\u001b[39;49m\u001b[38;5;241;43m.\u001b[39;49m\u001b[43mnotify_change\u001b[49m\u001b[43m(\u001b[49m\u001b[43mchange\u001b[49m\u001b[43m)\u001b[49m\n",
      "File \u001b[0;32m~/nasaharvest/openmapflow/venv/lib/python3.9/site-packages/ipywidgets/widgets/widget.py:686\u001b[0m, in \u001b[0;36mWidget.notify_change\u001b[0;34m(self, change)\u001b[0m\n\u001b[1;32m    683\u001b[0m     \u001b[38;5;28;01mif\u001b[39;00m name \u001b[38;5;129;01min\u001b[39;00m \u001b[38;5;28mself\u001b[39m\u001b[38;5;241m.\u001b[39mkeys \u001b[38;5;129;01mand\u001b[39;00m \u001b[38;5;28mself\u001b[39m\u001b[38;5;241m.\u001b[39m_should_send_property(name, \u001b[38;5;28mgetattr\u001b[39m(\u001b[38;5;28mself\u001b[39m, name)):\n\u001b[1;32m    684\u001b[0m         \u001b[38;5;66;03m# Send new state to front-end\u001b[39;00m\n\u001b[1;32m    685\u001b[0m         \u001b[38;5;28mself\u001b[39m\u001b[38;5;241m.\u001b[39msend_state(key\u001b[38;5;241m=\u001b[39mname)\n\u001b[0;32m--> 686\u001b[0m \u001b[38;5;28;43msuper\u001b[39;49m\u001b[43m(\u001b[49m\u001b[43mWidget\u001b[49m\u001b[43m,\u001b[49m\u001b[43m \u001b[49m\u001b[38;5;28;43mself\u001b[39;49m\u001b[43m)\u001b[49m\u001b[38;5;241;43m.\u001b[39;49m\u001b[43mnotify_change\u001b[49m\u001b[43m(\u001b[49m\u001b[43mchange\u001b[49m\u001b[43m)\u001b[49m\n",
      "File \u001b[0;32m~/nasaharvest/openmapflow/venv/lib/python3.9/site-packages/traitlets/traitlets.py:1386\u001b[0m, in \u001b[0;36mHasTraits.notify_change\u001b[0;34m(self, change)\u001b[0m\n\u001b[1;32m   1384\u001b[0m \u001b[38;5;28;01mdef\u001b[39;00m \u001b[38;5;21mnotify_change\u001b[39m(\u001b[38;5;28mself\u001b[39m, change):\n\u001b[1;32m   1385\u001b[0m     \u001b[38;5;124;03m\"\"\"Notify observers of a change event\"\"\"\u001b[39;00m\n\u001b[0;32m-> 1386\u001b[0m     \u001b[38;5;28;01mreturn\u001b[39;00m \u001b[38;5;28;43mself\u001b[39;49m\u001b[38;5;241;43m.\u001b[39;49m\u001b[43m_notify_observers\u001b[49m\u001b[43m(\u001b[49m\u001b[43mchange\u001b[49m\u001b[43m)\u001b[49m\n",
      "File \u001b[0;32m~/nasaharvest/openmapflow/venv/lib/python3.9/site-packages/traitlets/traitlets.py:1431\u001b[0m, in \u001b[0;36mHasTraits._notify_observers\u001b[0;34m(self, event)\u001b[0m\n\u001b[1;32m   1428\u001b[0m \u001b[38;5;28;01melif\u001b[39;00m \u001b[38;5;28misinstance\u001b[39m(c, EventHandler) \u001b[38;5;129;01mand\u001b[39;00m c\u001b[38;5;241m.\u001b[39mname \u001b[38;5;129;01mis\u001b[39;00m \u001b[38;5;129;01mnot\u001b[39;00m \u001b[38;5;28;01mNone\u001b[39;00m:\n\u001b[1;32m   1429\u001b[0m     c \u001b[38;5;241m=\u001b[39m \u001b[38;5;28mgetattr\u001b[39m(\u001b[38;5;28mself\u001b[39m, c\u001b[38;5;241m.\u001b[39mname)\n\u001b[0;32m-> 1431\u001b[0m \u001b[43mc\u001b[49m\u001b[43m(\u001b[49m\u001b[43mevent\u001b[49m\u001b[43m)\u001b[49m\n",
      "File \u001b[0;32m~/nasaharvest/openmapflow/venv/lib/python3.9/site-packages/geemap/geemap.py:933\u001b[0m, in \u001b[0;36mMap.__init__.<locals>.tool_callback\u001b[0;34m(change)\u001b[0m\n\u001b[1;32m    930\u001b[0m \u001b[38;5;28;01melif\u001b[39;00m tool_name \u001b[38;5;241m==\u001b[39m \u001b[38;5;124m\"\u001b[39m\u001b[38;5;124mplanet\u001b[39m\u001b[38;5;124m\"\u001b[39m:\n\u001b[1;32m    931\u001b[0m     \u001b[38;5;28;01mfrom\u001b[39;00m \u001b[38;5;21;01m.\u001b[39;00m\u001b[38;5;21;01mtoolbar\u001b[39;00m \u001b[38;5;28;01mimport\u001b[39;00m split_basemaps\n\u001b[0;32m--> 933\u001b[0m     split_basemaps(\u001b[38;5;28mself\u001b[39m, layers_dict\u001b[38;5;241m=\u001b[39m\u001b[43mplanet_tiles\u001b[49m\u001b[43m(\u001b[49m\u001b[43m)\u001b[49m)\n\u001b[1;32m    934\u001b[0m     \u001b[38;5;28mself\u001b[39m\u001b[38;5;241m.\u001b[39mtoolbar_reset()\n\u001b[1;32m    935\u001b[0m \u001b[38;5;28;01melif\u001b[39;00m tool_name \u001b[38;5;241m==\u001b[39m \u001b[38;5;124m\"\u001b[39m\u001b[38;5;124mcog-inspector\u001b[39m\u001b[38;5;124m\"\u001b[39m:\n",
      "File \u001b[0;32m~/nasaharvest/openmapflow/venv/lib/python3.9/site-packages/geemap/common.py:9708\u001b[0m, in \u001b[0;36mplanet_tiles\u001b[0;34m(api_key, token_name, tile_format)\u001b[0m\n\u001b[1;32m   9693\u001b[0m \u001b[38;5;124;03m\"\"\"Generates Planet imagery TileLayer based on an API key. To get a Planet API key, see https://developers.planet.com/quickstart/apis/\u001b[39;00m\n\u001b[1;32m   9694\u001b[0m \n\u001b[1;32m   9695\u001b[0m \u001b[38;5;124;03mArgs:\u001b[39;00m\n\u001b[0;32m   (...)\u001b[0m\n\u001b[1;32m   9704\u001b[0m \u001b[38;5;124;03m    dict: A dictionary of TileLayer.\u001b[39;00m\n\u001b[1;32m   9705\u001b[0m \u001b[38;5;124;03m\"\"\"\u001b[39;00m\n\u001b[1;32m   9707\u001b[0m catalog \u001b[38;5;241m=\u001b[39m {}\n\u001b[0;32m-> 9708\u001b[0m quarterly \u001b[38;5;241m=\u001b[39m \u001b[43mplanet_quarterly_tiles\u001b[49m\u001b[43m(\u001b[49m\u001b[43mapi_key\u001b[49m\u001b[43m,\u001b[49m\u001b[43m \u001b[49m\u001b[43mtoken_name\u001b[49m\u001b[43m,\u001b[49m\u001b[43m \u001b[49m\u001b[43mtile_format\u001b[49m\u001b[43m)\u001b[49m\n\u001b[1;32m   9709\u001b[0m monthly \u001b[38;5;241m=\u001b[39m planet_monthly_tiles(api_key, token_name, tile_format)\n\u001b[1;32m   9711\u001b[0m \u001b[38;5;28;01mfor\u001b[39;00m key \u001b[38;5;129;01min\u001b[39;00m quarterly:\n",
      "File \u001b[0;32m~/nasaharvest/openmapflow/venv/lib/python3.9/site-packages/geemap/common.py:9670\u001b[0m, in \u001b[0;36mplanet_quarterly_tiles\u001b[0;34m(api_key, token_name, tile_format)\u001b[0m\n\u001b[1;32m   9667\u001b[0m     \u001b[38;5;28;01mraise\u001b[39;00m \u001b[38;5;167;01mValueError\u001b[39;00m(\u001b[38;5;124m\"\u001b[39m\u001b[38;5;124mThe tile format must be either ipyleaflet or folium.\u001b[39m\u001b[38;5;124m\"\u001b[39m)\n\u001b[1;32m   9669\u001b[0m tiles \u001b[38;5;241m=\u001b[39m {}\n\u001b[0;32m-> 9670\u001b[0m links \u001b[38;5;241m=\u001b[39m \u001b[43mplanet_quarterly\u001b[49m\u001b[43m(\u001b[49m\u001b[43mapi_key\u001b[49m\u001b[43m,\u001b[49m\u001b[43m \u001b[49m\u001b[43mtoken_name\u001b[49m\u001b[43m)\u001b[49m\n\u001b[1;32m   9672\u001b[0m \u001b[38;5;28;01mfor\u001b[39;00m url \u001b[38;5;129;01min\u001b[39;00m links:\n\u001b[1;32m   9673\u001b[0m     index \u001b[38;5;241m=\u001b[39m url\u001b[38;5;241m.\u001b[39mfind(\u001b[38;5;124m\"\u001b[39m\u001b[38;5;124m20\u001b[39m\u001b[38;5;124m\"\u001b[39m)\n",
      "File \u001b[0;32m~/nasaharvest/openmapflow/venv/lib/python3.9/site-packages/geemap/common.py:9562\u001b[0m, in \u001b[0;36mplanet_quarterly\u001b[0;34m(api_key, token_name)\u001b[0m\n\u001b[1;32m   9560\u001b[0m     api_key \u001b[38;5;241m=\u001b[39m os\u001b[38;5;241m.\u001b[39menviron\u001b[38;5;241m.\u001b[39mget(token_name)\n\u001b[1;32m   9561\u001b[0m     \u001b[38;5;28;01mif\u001b[39;00m api_key \u001b[38;5;129;01mis\u001b[39;00m \u001b[38;5;28;01mNone\u001b[39;00m:\n\u001b[0;32m-> 9562\u001b[0m         \u001b[38;5;28;01mraise\u001b[39;00m \u001b[38;5;167;01mValueError\u001b[39;00m(\u001b[38;5;124m\"\u001b[39m\u001b[38;5;124mThe Planet API Key must be provided.\u001b[39m\u001b[38;5;124m\"\u001b[39m)\n\u001b[1;32m   9564\u001b[0m today \u001b[38;5;241m=\u001b[39m datetime\u001b[38;5;241m.\u001b[39mdate\u001b[38;5;241m.\u001b[39mtoday()\n\u001b[1;32m   9565\u001b[0m year_now \u001b[38;5;241m=\u001b[39m \u001b[38;5;28mint\u001b[39m(today\u001b[38;5;241m.\u001b[39mstrftime(\u001b[38;5;124m\"\u001b[39m\u001b[38;5;124m%\u001b[39m\u001b[38;5;124mY\u001b[39m\u001b[38;5;124m\"\u001b[39m))\n",
      "\u001b[0;31mValueError\u001b[0m: The Planet API Key must be provided."
     ]
    }
   ],
   "source": [
    "for name, df in tqdm(dfs.items()):\n",
    "    # lat and lon are reveresed in csvs\n",
    "    Map.add_points_from_xy(df.sample(n=100).reset_index(), x=\"lat\", y=\"lon\", layer_name=name)\n",
    "Map"
   ]
  },
  {
   "cell_type": "code",
   "execution_count": null,
   "id": "98db3c7a",
   "metadata": {},
   "outputs": [],
   "source": []
  }
 ],
 "metadata": {
  "kernelspec": {
   "display_name": "Python 3 (ipykernel)",
   "language": "python",
   "name": "python3"
  },
  "language_info": {
   "codemirror_mode": {
    "name": "ipython",
    "version": 3
   },
   "file_extension": ".py",
   "mimetype": "text/x-python",
   "name": "python",
   "nbconvert_exporter": "python",
   "pygments_lexer": "ipython3",
   "version": "3.9.12"
  }
 },
 "nbformat": 4,
 "nbformat_minor": 5
}
